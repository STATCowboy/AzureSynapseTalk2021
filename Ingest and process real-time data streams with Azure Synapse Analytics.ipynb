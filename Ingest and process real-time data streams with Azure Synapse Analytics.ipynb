{
  "cells": [
    {
      "cell_type": "markdown",
      "source": [
        "### Ingest and process real-time data streams with Azure Synapse Analytics\r\n",
        "\r\n",
        "Adopted from https://www.mssqltips.com/sqlservertip/6748/real-time-data-streams-azure-synapse-analytics/"
      ],
      "metadata": {
        "nteract": {
          "transient": {
            "deleting": false
          }
        }
      }
    },
    {
      "cell_type": "code",
      "source": [
        "from pyspark.sql.functions import *\r\n",
        "from datetime import datetime\r\n",
        "from dateutil import parser\r\n",
        "\r\n",
        "# from azureml.opendatasets import NycTlcGreen\r\n",
        "# data = NycTlcGreen()\r\n",
        "\r\n",
        "from azureml.opendatasets import NycTlcYellow\r\n",
        "\r\n",
        "end_date = parser.parse('2018-06-06')\r\n",
        "start_date = parser.parse('2018-05-01')\r\n",
        "data = NycTlcYellow(start_date=start_date, end_date=end_date)\r\n",
        " \r\n",
        "data_df = data.to_spark_dataframe()\r\n",
        "data_df.printSchema()"
      ],
      "outputs": [
        {
          "output_type": "display_data",
          "data": {
            "application/vnd.livy.statement-meta+json": {
              "spark_pool": "jbjsynspark",
              "session_id": 4,
              "statement_id": 1,
              "state": "finished",
              "livy_statement_state": "available",
              "queued_time": "2021-08-11T19:37:02.6272719Z",
              "session_start_time": "2021-08-11T19:37:02.6605619Z",
              "execution_start_time": "2021-08-11T19:39:12.3995516Z",
              "execution_finish_time": "2021-08-11T19:39:47.766424Z"
            },
            "text/plain": "StatementMeta(jbjsynspark, 4, 1, Finished, Available)"
          },
          "metadata": {}
        },
        {
          "output_type": "stream",
          "name": "stdout",
          "text": [
            "root\n",
            " |-- vendorID: string (nullable = true)\n",
            " |-- tpepPickupDateTime: timestamp (nullable = true)\n",
            " |-- tpepDropoffDateTime: timestamp (nullable = true)\n",
            " |-- passengerCount: integer (nullable = true)\n",
            " |-- tripDistance: double (nullable = true)\n",
            " |-- puLocationId: string (nullable = true)\n",
            " |-- doLocationId: string (nullable = true)\n",
            " |-- startLon: double (nullable = true)\n",
            " |-- startLat: double (nullable = true)\n",
            " |-- endLon: double (nullable = true)\n",
            " |-- endLat: double (nullable = true)\n",
            " |-- rateCodeId: integer (nullable = true)\n",
            " |-- storeAndFwdFlag: string (nullable = true)\n",
            " |-- paymentType: string (nullable = true)\n",
            " |-- fareAmount: double (nullable = true)\n",
            " |-- extra: double (nullable = true)\n",
            " |-- mtaTax: double (nullable = true)\n",
            " |-- improvementSurcharge: string (nullable = true)\n",
            " |-- tipAmount: double (nullable = true)\n",
            " |-- tollsAmount: double (nullable = true)\n",
            " |-- totalAmount: double (nullable = true)\n",
            " |-- puYear: integer (nullable = true)\n",
            " |-- puMonth: integer (nullable = true)"
          ]
        }
      ],
      "execution_count": 1,
      "metadata": {
        "jupyter": {
          "source_hidden": false,
          "outputs_hidden": false
        },
        "nteract": {
          "transient": {
            "deleting": false
          }
        },
        "collapsed": true
      }
    },
    {
      "cell_type": "code",
      "source": [
        "deltaPath='/synapse/Streaming/NYTaxiRaw'\r\n",
        "\r\n",
        "# Comment out for now since already ran\r\n",
        "# data_df.write.format('delta').mode('overwrite').option('overwriteSchema', 'true').save(deltaPath)"
      ],
      "outputs": [
        {
          "output_type": "display_data",
          "data": {
            "application/vnd.livy.statement-meta+json": {
              "spark_pool": "jbjsynspark",
              "session_id": 4,
              "statement_id": 2,
              "state": "finished",
              "livy_statement_state": "available",
              "queued_time": "2021-08-11T19:40:01.2527246Z",
              "session_start_time": null,
              "execution_start_time": "2021-08-11T19:40:01.3526291Z",
              "execution_finish_time": "2021-08-11T19:40:01.5080858Z"
            },
            "text/plain": "StatementMeta(jbjsynspark, 4, 2, Finished, Available)"
          },
          "metadata": {}
        },
        {
          "output_type": "stream",
          "name": "stdout",
          "text": []
        }
      ],
      "execution_count": 2,
      "metadata": {
        "jupyter": {
          "source_hidden": false,
          "outputs_hidden": false
        },
        "nteract": {
          "transient": {
            "deleting": false
          }
        },
        "collapsed": true
      }
    },
    {
      "cell_type": "code",
      "source": [
        "deltaProcessedPath='/synapse/Streaming/NYTaxiSilver'\r\n",
        "deltaCheckpointPath='/synapse/Streaming/NYTaxiCheckpointSilver'\r\n",
        " \r\n",
        "dfProcStream=(spark.readStream.format('delta').option('ignoreChanges', 'true').load(deltaPath)\r\n",
        ".withColumn('TripDuration_Min',round((col('tpepDropoffDateTime').cast('long')-col('tpepPickupDateTime').cast('long'))/60))\r\n",
        ".selectExpr('tpepPickupDateTime as PickupTime','tpepDropoffDateTime as DropoffTime','TripDuration_Min','fareAmount','tipAmount')\r\n",
        ".writeStream.format('delta')\r\n",
        ".option('mode','overwrite')\r\n",
        ".option('checkpointLocation',deltaCheckpointPath)\r\n",
        ".start(deltaProcessedPath))"
      ],
      "outputs": [
        {
          "output_type": "display_data",
          "data": {
            "application/vnd.livy.statement-meta+json": {
              "spark_pool": "jbjsynspark",
              "session_id": 4,
              "statement_id": 3,
              "state": "finished",
              "livy_statement_state": "available",
              "queued_time": "2021-08-11T19:41:24.8035161Z",
              "session_start_time": null,
              "execution_start_time": "2021-08-11T19:41:24.9825963Z",
              "execution_finish_time": "2021-08-11T19:41:50.6642888Z"
            },
            "text/plain": "StatementMeta(jbjsynspark, 4, 3, Finished, Available)"
          },
          "metadata": {}
        },
        {
          "output_type": "stream",
          "name": "stdout",
          "text": []
        }
      ],
      "execution_count": 3,
      "metadata": {
        "jupyter": {
          "source_hidden": false,
          "outputs_hidden": false
        },
        "nteract": {
          "transient": {
            "deleting": false
          }
        },
        "collapsed": true
      }
    },
    {
      "cell_type": "code",
      "source": [
        "print(dfProcStream.isActive)"
      ],
      "outputs": [
        {
          "output_type": "display_data",
          "data": {
            "application/vnd.livy.statement-meta+json": {
              "spark_pool": "jbjsynspark",
              "session_id": 4,
              "statement_id": 4,
              "state": "finished",
              "livy_statement_state": "available",
              "queued_time": "2021-08-11T19:43:14.5576994Z",
              "session_start_time": null,
              "execution_start_time": "2021-08-11T19:43:14.6616689Z",
              "execution_finish_time": "2021-08-11T19:43:14.8033631Z"
            },
            "text/plain": "StatementMeta(jbjsynspark, 4, 4, Finished, Available)"
          },
          "metadata": {}
        },
        {
          "output_type": "stream",
          "name": "stdout",
          "text": [
            "True"
          ]
        }
      ],
      "execution_count": 4,
      "metadata": {
        "jupyter": {
          "source_hidden": false,
          "outputs_hidden": false
        },
        "nteract": {
          "transient": {
            "deleting": false
          }
        },
        "collapsed": true
      }
    },
    {
      "cell_type": "code",
      "source": [
        "print(dfProcStream.status)"
      ],
      "outputs": [
        {
          "output_type": "display_data",
          "data": {
            "application/vnd.livy.statement-meta+json": {
              "spark_pool": "jbjsynspark",
              "session_id": 4,
              "statement_id": 5,
              "state": "finished",
              "livy_statement_state": "available",
              "queued_time": "2021-08-11T19:43:28.638759Z",
              "session_start_time": null,
              "execution_start_time": "2021-08-11T19:43:28.7391504Z",
              "execution_finish_time": "2021-08-11T19:43:28.9093601Z"
            },
            "text/plain": "StatementMeta(jbjsynspark, 4, 5, Finished, Available)"
          },
          "metadata": {}
        },
        {
          "output_type": "stream",
          "name": "stdout",
          "text": [
            "{'message': 'Waiting for data to arrive', 'isDataAvailable': False, 'isTriggerActive': False}"
          ]
        }
      ],
      "execution_count": 5,
      "metadata": {
        "jupyter": {
          "source_hidden": false,
          "outputs_hidden": false
        },
        "nteract": {
          "transient": {
            "deleting": false
          }
        },
        "collapsed": true
      }
    },
    {
      "cell_type": "code",
      "source": [
        "%%sql\r\n",
        "CREATE TABLE NYTaxi \r\n",
        "USING DELTA\r\n",
        "LOCATION '/synapse/Streaming/NYTaxiSilver'"
      ],
      "outputs": [
        {
          "output_type": "display_data",
          "data": {
            "application/vnd.livy.statement-meta+json": {
              "spark_pool": "jbjsynspark",
              "session_id": 4,
              "statement_id": 6,
              "state": "finished",
              "livy_statement_state": "available",
              "queued_time": "2021-08-11T19:43:34.6871755Z",
              "session_start_time": null,
              "execution_start_time": "2021-08-11T19:43:34.7925512Z",
              "execution_finish_time": "2021-08-11T19:43:43.4614317Z"
            },
            "text/plain": "StatementMeta(jbjsynspark, 4, 6, Finished, Available)"
          },
          "metadata": {}
        },
        {
          "output_type": "execute_result",
          "execution_count": 6,
          "data": {
            "application/vnd.synapse.sparksql-result+json": {
              "schema": {
                "type": "struct",
                "fields": []
              },
              "data": []
            },
            "text/plain": "<Spark SQL result set with 0 rows and 0 fields>"
          },
          "metadata": {}
        }
      ],
      "execution_count": 6,
      "metadata": {
        "jupyter": {
          "source_hidden": false,
          "outputs_hidden": false
        },
        "nteract": {
          "transient": {
            "deleting": false
          }
        },
        "microsoft": {
          "language": "sparksql"
        },
        "collapsed": false
      }
    },
    {
      "cell_type": "code",
      "source": [
        "%%sql\r\n",
        "select * from NYTaxi limit 100"
      ],
      "outputs": [
        {
          "output_type": "display_data",
          "data": {
            "application/vnd.livy.statement-meta+json": {
              "spark_pool": "jbjsynspark",
              "session_id": 4,
              "statement_id": 7,
              "state": "finished",
              "livy_statement_state": "available",
              "queued_time": "2021-08-11T19:43:49.8351014Z",
              "session_start_time": null,
              "execution_start_time": "2021-08-11T19:43:49.9291344Z",
              "execution_finish_time": "2021-08-11T19:43:53.8781326Z"
            },
            "text/plain": "StatementMeta(jbjsynspark, 4, 7, Finished, Available)"
          },
          "metadata": {}
        },
        {
          "output_type": "execute_result",
          "execution_count": 7,
          "data": {
            "application/vnd.synapse.sparksql-result+json": {
              "schema": {
                "type": "struct",
                "fields": [
                  {
                    "name": "PickupTime",
                    "type": "timestamp",
                    "nullable": true,
                    "metadata": {}
                  },
                  {
                    "name": "DropoffTime",
                    "type": "timestamp",
                    "nullable": true,
                    "metadata": {}
                  },
                  {
                    "name": "TripDuration_Min",
                    "type": "double",
                    "nullable": true,
                    "metadata": {}
                  },
                  {
                    "name": "fareAmount",
                    "type": "double",
                    "nullable": true,
                    "metadata": {}
                  },
                  {
                    "name": "tipAmount",
                    "type": "double",
                    "nullable": true,
                    "metadata": {}
                  }
                ]
              },
              "data": [
                [
                  "2018-05-23T10:05:12Z",
                  "2018-05-23T10:37:07Z",
                  32,
                  27.5,
                  4.25
                ],
                [
                  "2018-05-03T18:18:08Z",
                  "2018-05-03T18:31:00Z",
                  13,
                  10,
                  2
                ],
                [
                  "2018-05-23T08:27:23Z",
                  "2018-05-23T08:36:20Z",
                  9,
                  7,
                  0
                ],
                [
                  "2018-05-03T14:35:43Z",
                  "2018-05-03T15:23:42Z",
                  48,
                  27,
                  5.56
                ],
                [
                  "2018-05-23T05:15:36Z",
                  "2018-05-23T05:26:40Z",
                  11,
                  11.5,
                  0
                ],
                [
                  "2018-05-03T15:44:29Z",
                  "2018-05-03T16:50:40Z",
                  66,
                  43.5,
                  10
                ],
                [
                  "2018-05-23T13:40:16Z",
                  "2018-05-23T14:00:00Z",
                  20,
                  13,
                  1
                ],
                [
                  "2018-05-03T18:28:27Z",
                  "2018-05-03T19:16:12Z",
                  48,
                  36.5,
                  8.8
                ],
                [
                  "2018-05-23T12:23:24Z",
                  "2018-05-23T12:32:40Z",
                  9,
                  15.5,
                  3.88
                ],
                [
                  "2018-05-03T14:40:13Z",
                  "2018-05-03T15:07:38Z",
                  27,
                  20.5,
                  4.26
                ],
                [
                  "2018-05-23T07:26:12Z",
                  "2018-05-23T07:31:06Z",
                  5,
                  5,
                  0
                ],
                [
                  "2018-05-03T12:06:46Z",
                  "2018-05-03T12:43:25Z",
                  37,
                  22.5,
                  0
                ],
                [
                  "2018-05-23T10:26:27Z",
                  "2018-05-23T10:34:58Z",
                  9,
                  6.5,
                  2.19
                ],
                [
                  "2018-05-03T13:21:20Z",
                  "2018-05-03T13:26:56Z",
                  6,
                  5.5,
                  3
                ],
                [
                  "2018-05-23T13:53:25Z",
                  "2018-05-23T13:57:13Z",
                  4,
                  4,
                  0
                ],
                [
                  "2018-05-03T11:09:05Z",
                  "2018-05-03T11:30:43Z",
                  22,
                  13.5,
                  4.29
                ],
                [
                  "2018-05-23T09:15:25Z",
                  "2018-05-23T09:34:45Z",
                  19,
                  12,
                  2.55
                ],
                [
                  "2018-05-03T16:13:58Z",
                  "2018-05-03T16:19:06Z",
                  5,
                  5,
                  0
                ],
                [
                  "2018-05-23T04:48:56Z",
                  "2018-05-23T04:57:51Z",
                  9,
                  11,
                  2.46
                ],
                [
                  "2018-05-03T12:18:44Z",
                  "2018-05-03T12:45:22Z",
                  27,
                  21,
                  6.5
                ],
                [
                  "2018-05-23T11:25:54Z",
                  "2018-05-23T11:58:51Z",
                  33,
                  19.5,
                  3
                ],
                [
                  "2018-05-03T19:06:16Z",
                  "2018-05-03T19:12:22Z",
                  6,
                  6,
                  0
                ],
                [
                  "2018-05-23T13:28:53Z",
                  "2018-05-23T13:39:08Z",
                  10,
                  8.5,
                  1.86
                ],
                [
                  "2018-05-03T16:23:06Z",
                  "2018-05-03T17:06:06Z",
                  43,
                  26.5,
                  10.2
                ],
                [
                  "2018-05-23T01:02:52Z",
                  "2018-05-23T01:09:08Z",
                  6,
                  6.5,
                  0
                ],
                [
                  "2018-05-03T13:58:42Z",
                  "2018-05-03T14:02:44Z",
                  4,
                  6.5,
                  0
                ],
                [
                  "2018-05-23T08:56:49Z",
                  "2018-05-23T09:15:30Z",
                  19,
                  12,
                  1
                ],
                [
                  "2018-05-03T16:30:54Z",
                  "2018-05-03T17:37:32Z",
                  67,
                  44.5,
                  0
                ],
                [
                  "2018-05-23T11:43:12Z",
                  "2018-05-23T12:00:18Z",
                  17,
                  11.5,
                  2.45
                ],
                [
                  "2018-05-03T11:12:26Z",
                  "2018-05-03T11:16:12Z",
                  4,
                  4.5,
                  1.06
                ],
                [
                  "2018-05-23T01:54:32Z",
                  "2018-05-23T01:57:47Z",
                  3,
                  4.5,
                  1.16
                ],
                [
                  "2018-05-03T12:57:28Z",
                  "2018-05-03T13:10:48Z",
                  13,
                  10,
                  0
                ],
                [
                  "2018-05-23T10:43:29Z",
                  "2018-05-23T10:53:34Z",
                  10,
                  8.5,
                  1.86
                ],
                [
                  "2018-05-03T16:25:03Z",
                  "2018-05-03T16:30:02Z",
                  5,
                  5.5,
                  0
                ],
                [
                  "2018-05-23T11:12:46Z",
                  "2018-05-23T11:19:59Z",
                  7,
                  6,
                  1.36
                ],
                [
                  "2018-05-03T15:53:50Z",
                  "2018-05-03T16:04:01Z",
                  10,
                  9,
                  0
                ],
                [
                  "2018-05-22T23:27:13Z",
                  "2018-05-22T23:42:15Z",
                  15,
                  12,
                  0
                ],
                [
                  "2018-05-03T17:00:10Z",
                  "2018-05-03T17:23:55Z",
                  24,
                  16.5,
                  3.66
                ],
                [
                  "2018-05-23T06:31:44Z",
                  "2018-05-23T06:44:05Z",
                  12,
                  12.5,
                  0
                ],
                [
                  "2018-05-03T11:16:19Z",
                  "2018-05-03T11:23:56Z",
                  8,
                  6.5,
                  1.45
                ],
                [
                  "2018-05-23T07:13:50Z",
                  "2018-05-23T07:18:20Z",
                  5,
                  6,
                  1.02
                ],
                [
                  "2018-05-03T14:58:49Z",
                  "2018-05-03T15:08:05Z",
                  9,
                  7.5,
                  0
                ],
                [
                  "2018-05-23T09:59:50Z",
                  "2018-05-23T10:23:22Z",
                  24,
                  14.5,
                  3.06
                ],
                [
                  "2018-05-03T15:28:16Z",
                  "2018-05-03T15:33:22Z",
                  5,
                  6,
                  0
                ],
                [
                  "2018-05-23T13:40:08Z",
                  "2018-05-23T14:13:52Z",
                  34,
                  19.5,
                  4.06
                ],
                [
                  "2018-05-03T15:36:29Z",
                  "2018-05-03T15:51:13Z",
                  15,
                  10,
                  2.15
                ],
                [
                  "2018-05-23T02:31:22Z",
                  "2018-05-23T03:04:06Z",
                  33,
                  28,
                  3
                ],
                [
                  "2018-05-03T16:04:41Z",
                  "2018-05-03T16:10:06Z",
                  5,
                  5.5,
                  1.45
                ],
                [
                  "2018-05-23T07:44:21Z",
                  "2018-05-23T08:05:17Z",
                  21,
                  14,
                  2.96
                ],
                [
                  "2018-05-03T13:31:16Z",
                  "2018-05-03T14:18:16Z",
                  47,
                  37.5,
                  0
                ],
                [
                  "2018-05-23T10:33:10Z",
                  "2018-05-23T10:38:47Z",
                  6,
                  5.5,
                  0
                ],
                [
                  "2018-05-03T17:52:56Z",
                  "2018-05-03T18:08:30Z",
                  16,
                  14,
                  3.16
                ],
                [
                  "2018-05-23T07:44:08Z",
                  "2018-05-23T07:47:16Z",
                  3,
                  4,
                  0.95
                ],
                [
                  "2018-05-03T18:16:45Z",
                  "2018-05-03T18:51:08Z",
                  34,
                  25,
                  8.14
                ],
                [
                  "2018-05-22T23:31:20Z",
                  "2018-05-23T00:10:03Z",
                  39,
                  30,
                  4
                ],
                [
                  "2018-05-03T16:43:04Z",
                  "2018-05-03T16:47:49Z",
                  5,
                  5.5,
                  2
                ],
                [
                  "2018-05-23T11:00:12Z",
                  "2018-05-23T11:16:56Z",
                  17,
                  12.5,
                  0
                ],
                [
                  "2018-05-03T15:02:54Z",
                  "2018-05-03T15:19:27Z",
                  17,
                  11,
                  1.5
                ],
                [
                  "2018-05-23T09:51:48Z",
                  "2018-05-23T09:59:27Z",
                  8,
                  7,
                  1.56
                ],
                [
                  "2018-05-03T15:10:58Z",
                  "2018-05-03T15:16:36Z",
                  6,
                  5.5,
                  1.26
                ],
                [
                  "2018-05-23T10:41:21Z",
                  "2018-05-23T10:47:44Z",
                  6,
                  5.5,
                  1.25
                ],
                [
                  "2018-05-03T18:47:27Z",
                  "2018-05-03T19:04:51Z",
                  17,
                  15,
                  0
                ],
                [
                  "2018-05-23T08:52:33Z",
                  "2018-05-23T09:18:24Z",
                  26,
                  16.5,
                  3.45
                ],
                [
                  "2018-05-03T12:36:22Z",
                  "2018-05-03T12:48:03Z",
                  12,
                  8.5,
                  0
                ],
                [
                  "2018-05-23T13:15:14Z",
                  "2018-05-23T13:36:43Z",
                  21,
                  14,
                  0
                ],
                [
                  "2018-05-03T11:29:02Z",
                  "2018-05-03T11:45:03Z",
                  16,
                  11,
                  1
                ],
                [
                  "2018-05-23T07:49:04Z",
                  "2018-05-23T07:55:10Z",
                  6,
                  5.5,
                  0
                ],
                [
                  "2018-05-03T18:08:45Z",
                  "2018-05-03T18:23:01Z",
                  14,
                  16,
                  3.55
                ],
                [
                  "2018-05-23T12:22:08Z",
                  "2018-05-23T12:40:53Z",
                  19,
                  12,
                  2.55
                ],
                [
                  "2018-05-03T19:30:17Z",
                  "2018-05-03T19:48:24Z",
                  18,
                  16,
                  0
                ],
                [
                  "2018-05-23T06:54:28Z",
                  "2018-05-23T06:56:55Z",
                  2,
                  4,
                  0
                ],
                [
                  "2018-05-03T14:35:49Z",
                  "2018-05-03T14:46:58Z",
                  11,
                  8,
                  2.2
                ],
                [
                  "2018-05-23T13:02:56Z",
                  "2018-05-23T13:13:25Z",
                  10,
                  8.5,
                  1.86
                ],
                [
                  "2018-05-03T14:32:57Z",
                  "2018-05-03T14:42:07Z",
                  9,
                  10,
                  2.15
                ],
                [
                  "2018-05-23T05:52:26Z",
                  "2018-05-23T06:00:07Z",
                  8,
                  8,
                  2.32
                ],
                [
                  "2018-05-03T16:02:25Z",
                  "2018-05-03T16:25:22Z",
                  23,
                  14,
                  0
                ],
                [
                  "2018-05-23T08:45:54Z",
                  "2018-05-23T08:50:45Z",
                  5,
                  6.5,
                  0
                ],
                [
                  "2018-05-03T13:59:14Z",
                  "2018-05-03T14:10:38Z",
                  11,
                  8.5,
                  1.86
                ],
                [
                  "2018-05-23T10:48:16Z",
                  "2018-05-23T10:57:08Z",
                  9,
                  7.5,
                  1
                ],
                [
                  "2018-05-03T17:53:50Z",
                  "2018-05-03T18:01:16Z",
                  7,
                  6,
                  1
                ],
                [
                  "2018-05-23T08:41:35Z",
                  "2018-05-23T09:06:48Z",
                  25,
                  17,
                  1
                ],
                [
                  "2018-05-03T12:22:10Z",
                  "2018-05-04T12:16:45Z",
                  1435,
                  12,
                  0
                ],
                [
                  "2018-05-23T09:09:23Z",
                  "2018-05-23T09:15:03Z",
                  6,
                  6,
                  0
                ],
                [
                  "2018-05-03T11:37:29Z",
                  "2018-05-03T11:48:22Z",
                  11,
                  8,
                  1.76
                ],
                [
                  "2018-05-23T06:29:59Z",
                  "2018-05-23T06:42:03Z",
                  12,
                  18,
                  0
                ],
                [
                  "2018-05-03T16:33:29Z",
                  "2018-05-03T16:49:33Z",
                  16,
                  12,
                  2.76
                ],
                [
                  "2018-05-23T12:41:50Z",
                  "2018-05-23T12:45:22Z",
                  4,
                  4.5,
                  0
                ],
                [
                  "2018-05-03T18:18:53Z",
                  "2018-05-03T18:30:25Z",
                  12,
                  10.5,
                  1.84
                ],
                [
                  "2018-05-23T13:52:11Z",
                  "2018-05-23T14:26:59Z",
                  35,
                  31.5,
                  0
                ],
                [
                  "2018-05-03T16:33:55Z",
                  "2018-05-03T17:02:35Z",
                  29,
                  22,
                  4.76
                ],
                [
                  "2018-05-23T13:07:55Z",
                  "2018-05-23T13:15:59Z",
                  8,
                  7,
                  1.56
                ],
                [
                  "2018-05-03T11:30:22Z",
                  "2018-05-03T11:55:50Z",
                  25,
                  16,
                  0
                ],
                [
                  "2018-05-23T08:38:25Z",
                  "2018-05-23T09:03:56Z",
                  26,
                  23.5,
                  6
                ],
                [
                  "2018-05-03T11:10:51Z",
                  "2018-05-03T11:21:02Z",
                  10,
                  7.5,
                  1.66
                ],
                [
                  "2018-05-23T09:27:29Z",
                  "2018-05-23T09:43:04Z",
                  16,
                  10.5,
                  0
                ],
                [
                  "2018-05-03T17:47:11Z",
                  "2018-05-03T17:51:40Z",
                  4,
                  5,
                  1.02
                ],
                [
                  "2018-05-23T07:32:43Z",
                  "2018-05-23T07:47:19Z",
                  15,
                  11.5,
                  2.46
                ],
                [
                  "2018-05-03T18:14:21Z",
                  "2018-05-03T18:18:55Z",
                  5,
                  6,
                  1
                ],
                [
                  "2018-05-23T00:27:52Z",
                  "2018-05-23T00:42:36Z",
                  15,
                  14.5,
                  4.74
                ],
                [
                  "2018-05-03T18:43:23Z",
                  "2018-05-03T19:06:19Z",
                  23,
                  18,
                  1.5
                ]
              ]
            },
            "text/plain": "<Spark SQL result set with 100 rows and 5 fields>"
          },
          "metadata": {}
        }
      ],
      "execution_count": 7,
      "metadata": {
        "jupyter": {
          "source_hidden": false,
          "outputs_hidden": false
        },
        "nteract": {
          "transient": {
            "deleting": false
          }
        },
        "microsoft": {
          "language": "sparksql"
        },
        "collapsed": false
      }
    },
    {
      "cell_type": "code",
      "source": [
        "# Try to append data\r\n",
        "\r\n",
        "from azureml.opendatasets import NycTlcYellow\r\n",
        "\r\n",
        "end_date = parser.parse('2018-07-31')\r\n",
        "start_date = parser.parse('2018-07-01')\r\n",
        "data = NycTlcYellow(start_date=start_date, end_date=end_date)\r\n",
        " \r\n",
        "data_df = data.to_spark_dataframe()\r\n",
        "\r\n",
        "deltaPath='/synapse/Streaming/NYTaxiRaw'\r\n",
        "\r\n",
        "# Comment out for now since already ran\r\n",
        "# data_df.write.format('delta').mode('append').save(deltaPath)"
      ],
      "outputs": [
        {
          "output_type": "display_data",
          "data": {
            "application/vnd.livy.statement-meta+json": {
              "spark_pool": "jbjsynspark",
              "session_id": 4,
              "statement_id": 10,
              "state": "finished",
              "livy_statement_state": "available",
              "queued_time": "2021-08-11T19:45:23.6759193Z",
              "session_start_time": null,
              "execution_start_time": "2021-08-11T19:45:23.7774569Z",
              "execution_finish_time": "2021-08-11T19:46:01.1198857Z"
            },
            "text/plain": "StatementMeta(jbjsynspark, 4, 10, Finished, Available)"
          },
          "metadata": {}
        },
        {
          "output_type": "stream",
          "name": "stdout",
          "text": []
        }
      ],
      "execution_count": 10,
      "metadata": {
        "jupyter": {
          "source_hidden": false,
          "outputs_hidden": false
        },
        "nteract": {
          "transient": {
            "deleting": false
          }
        },
        "collapsed": true
      }
    },
    {
      "cell_type": "code",
      "source": [
        "print(dfProcStream.status)"
      ],
      "outputs": [
        {
          "output_type": "display_data",
          "data": {
            "application/vnd.livy.statement-meta+json": {
              "spark_pool": null,
              "session_id": null,
              "statement_id": null,
              "state": "waiting",
              "livy_statement_state": null,
              "queued_time": "2021-08-11T19:46:05.1978446Z",
              "session_start_time": null,
              "execution_start_time": null,
              "execution_finish_time": null
            },
            "text/plain": "StatementMeta(, , , Waiting, )"
          },
          "metadata": {}
        },
        {
          "output_type": "stream",
          "name": "stdout",
          "text": [
            "{'message': 'Waiting for data to arrive', 'isDataAvailable': False, 'isTriggerActive': False}"
          ]
        }
      ],
      "execution_count": 12,
      "metadata": {
        "jupyter": {
          "source_hidden": false,
          "outputs_hidden": false
        },
        "nteract": {
          "transient": {
            "deleting": false
          }
        },
        "collapsed": true
      }
    },
    {
      "cell_type": "code",
      "source": [
        "%%sql\r\n",
        "select * from NYTaxi \r\n",
        "where PickupTime > '2018-06-07T00:00:00Z' \r\n",
        "order by PickupTime desc limit 100"
      ],
      "outputs": [
        {
          "output_type": "display_data",
          "data": {
            "application/vnd.livy.statement-meta+json": {
              "spark_pool": "jbjsynspark",
              "session_id": 4,
              "statement_id": 13,
              "state": "finished",
              "livy_statement_state": "available",
              "queued_time": "2021-08-11T19:46:11.1692108Z",
              "session_start_time": null,
              "execution_start_time": "2021-08-11T19:46:11.266611Z",
              "execution_finish_time": "2021-08-11T19:46:16.647204Z"
            },
            "text/plain": "StatementMeta(jbjsynspark, 4, 13, Finished, Available)"
          },
          "metadata": {}
        },
        {
          "output_type": "execute_result",
          "execution_count": 13,
          "data": {
            "application/vnd.synapse.sparksql-result+json": {
              "schema": {
                "type": "struct",
                "fields": [
                  {
                    "name": "PickupTime",
                    "type": "timestamp",
                    "nullable": true,
                    "metadata": {}
                  },
                  {
                    "name": "DropoffTime",
                    "type": "timestamp",
                    "nullable": true,
                    "metadata": {}
                  },
                  {
                    "name": "TripDuration_Min",
                    "type": "double",
                    "nullable": true,
                    "metadata": {}
                  },
                  {
                    "name": "fareAmount",
                    "type": "double",
                    "nullable": true,
                    "metadata": {}
                  },
                  {
                    "name": "tipAmount",
                    "type": "double",
                    "nullable": true,
                    "metadata": {}
                  }
                ]
              },
              "data": [
                [
                  "2018-07-31T00:00:00Z",
                  "2018-07-31T00:08:56Z",
                  9,
                  10,
                  3.39
                ],
                [
                  "2018-07-31T00:00:00Z",
                  "2018-07-31T00:11:00Z",
                  11,
                  12.5,
                  0
                ],
                [
                  "2018-07-31T00:00:00Z",
                  "2018-07-31T00:26:22Z",
                  26,
                  50,
                  0
                ],
                [
                  "2018-07-31T00:00:00Z",
                  "2018-07-31T00:08:35Z",
                  9,
                  8.5,
                  1.95
                ],
                [
                  "2018-07-31T00:00:00Z",
                  "2018-07-31T00:00:00Z",
                  0,
                  52,
                  6.31
                ],
                [
                  "2018-07-30T23:59:57Z",
                  "2018-07-31T00:12:07Z",
                  12,
                  9.5,
                  2.16
                ],
                [
                  "2018-07-30T23:59:57Z",
                  "2018-07-31T00:04:36Z",
                  5,
                  5.5,
                  1
                ],
                [
                  "2018-07-30T23:59:57Z",
                  "2018-07-31T00:11:54Z",
                  12,
                  10.5,
                  2.36
                ],
                [
                  "2018-07-30T23:59:56Z",
                  "2018-07-31T00:03:02Z",
                  3,
                  5.5,
                  1
                ],
                [
                  "2018-07-30T23:59:56Z",
                  "2018-07-31T00:08:52Z",
                  9,
                  14,
                  0
                ],
                [
                  "2018-07-30T23:59:56Z",
                  "2018-07-31T00:04:05Z",
                  4,
                  5.5,
                  1.35
                ],
                [
                  "2018-07-30T23:59:56Z",
                  "2018-07-31T00:02:40Z",
                  3,
                  4,
                  0.5
                ],
                [
                  "2018-07-30T23:59:55Z",
                  "2018-07-31T00:19:18Z",
                  19,
                  26,
                  3
                ],
                [
                  "2018-07-30T23:59:55Z",
                  "2018-07-31T00:14:49Z",
                  15,
                  22.5,
                  5.91
                ],
                [
                  "2018-07-30T23:59:55Z",
                  "2018-07-31T00:13:57Z",
                  14,
                  22,
                  5.81
                ],
                [
                  "2018-07-30T23:59:55Z",
                  "2018-07-31T00:11:50Z",
                  12,
                  52,
                  0
                ],
                [
                  "2018-07-30T23:59:53Z",
                  "2018-07-31T00:26:01Z",
                  26,
                  38,
                  9
                ],
                [
                  "2018-07-30T23:59:52Z",
                  "2018-07-31T23:05:51Z",
                  1386,
                  7.5,
                  2.2
                ],
                [
                  "2018-07-30T23:59:51Z",
                  "2018-07-31T00:07:07Z",
                  7,
                  7.5,
                  0
                ],
                [
                  "2018-07-30T23:59:50Z",
                  "2018-07-31T00:14:19Z",
                  14,
                  11,
                  2.45
                ],
                [
                  "2018-07-30T23:59:50Z",
                  "2018-07-31T00:24:36Z",
                  25,
                  39.5,
                  8.15
                ],
                [
                  "2018-07-30T23:59:49Z",
                  "2018-07-31T00:07:46Z",
                  8,
                  8,
                  0
                ],
                [
                  "2018-07-30T23:59:49Z",
                  "2018-07-31T00:12:34Z",
                  13,
                  11.5,
                  0
                ],
                [
                  "2018-07-30T23:59:48Z",
                  "2018-07-31T00:22:01Z",
                  22,
                  29,
                  4.54
                ],
                [
                  "2018-07-30T23:59:47Z",
                  "2018-07-31T00:12:20Z",
                  13,
                  10.5,
                  2.35
                ],
                [
                  "2018-07-30T23:59:47Z",
                  "2018-07-31T00:15:20Z",
                  16,
                  16.5,
                  5.34
                ],
                [
                  "2018-07-30T23:59:46Z",
                  "2018-07-31T00:27:55Z",
                  28,
                  34,
                  7.05
                ],
                [
                  "2018-07-30T23:59:46Z",
                  "2018-07-31T00:06:36Z",
                  7,
                  9.5,
                  0
                ],
                [
                  "2018-07-30T23:59:46Z",
                  "2018-07-31T00:07:00Z",
                  7,
                  7.5,
                  0
                ],
                [
                  "2018-07-30T23:59:45Z",
                  "2018-07-31T00:24:50Z",
                  25,
                  27.5,
                  5.75
                ],
                [
                  "2018-07-30T23:59:44Z",
                  "2018-07-31T00:05:39Z",
                  6,
                  7.5,
                  1.76
                ],
                [
                  "2018-07-30T23:59:42Z",
                  "2018-07-31T00:21:11Z",
                  21,
                  30,
                  6.25
                ],
                [
                  "2018-07-30T23:59:42Z",
                  "2018-07-31T00:08:54Z",
                  9,
                  10.5,
                  2.36
                ],
                [
                  "2018-07-30T23:59:41Z",
                  "2018-07-31T00:12:31Z",
                  13,
                  12,
                  2.66
                ],
                [
                  "2018-07-30T23:59:40Z",
                  "2018-07-31T00:07:13Z",
                  8,
                  8.5,
                  0
                ],
                [
                  "2018-07-30T23:59:40Z",
                  "2018-07-31T00:25:33Z",
                  26,
                  52,
                  10.56
                ],
                [
                  "2018-07-30T23:59:38Z",
                  "2018-07-31T00:11:28Z",
                  12,
                  13.5,
                  0
                ],
                [
                  "2018-07-30T23:59:38Z",
                  "2018-07-31T00:06:31Z",
                  7,
                  8.5,
                  1.96
                ],
                [
                  "2018-07-30T23:59:37Z",
                  "2018-07-31T00:08:18Z",
                  9,
                  9.5,
                  0
                ],
                [
                  "2018-07-30T23:59:37Z",
                  "2018-07-31T00:04:20Z",
                  5,
                  5.5,
                  1
                ],
                [
                  "2018-07-30T23:59:37Z",
                  "2018-07-31T00:16:49Z",
                  17,
                  24.5,
                  6.31
                ],
                [
                  "2018-07-30T23:59:37Z",
                  "2018-07-31T00:04:11Z",
                  5,
                  5.5,
                  1.02
                ],
                [
                  "2018-07-30T23:59:36Z",
                  "2018-07-31T00:08:42Z",
                  9,
                  9.5,
                  1
                ],
                [
                  "2018-07-30T23:59:36Z",
                  "2018-07-31T00:13:17Z",
                  14,
                  14,
                  2
                ],
                [
                  "2018-07-30T23:59:35Z",
                  "2018-07-31T00:03:52Z",
                  4,
                  5,
                  1.26
                ],
                [
                  "2018-07-30T23:59:35Z",
                  "2018-07-31T00:08:04Z",
                  8,
                  8,
                  0
                ],
                [
                  "2018-07-30T23:59:34Z",
                  "2018-07-31T00:06:22Z",
                  7,
                  7,
                  1
                ],
                [
                  "2018-07-30T23:59:33Z",
                  "2018-07-31T00:13:49Z",
                  14,
                  14,
                  3.06
                ],
                [
                  "2018-07-30T23:59:33Z",
                  "2018-07-31T00:03:56Z",
                  4,
                  5,
                  1.25
                ],
                [
                  "2018-07-30T23:59:32Z",
                  "2018-07-31T00:05:31Z",
                  6,
                  6,
                  1.46
                ],
                [
                  "2018-07-30T23:59:32Z",
                  "2018-07-31T00:31:56Z",
                  32,
                  52,
                  10
                ],
                [
                  "2018-07-30T23:59:31Z",
                  "2018-07-31T00:06:48Z",
                  7,
                  7,
                  2.45
                ],
                [
                  "2018-07-30T23:59:29Z",
                  "2018-07-31T00:20:47Z",
                  21,
                  20,
                  6.39
                ],
                [
                  "2018-07-30T23:59:29Z",
                  "2018-07-31T00:11:37Z",
                  12,
                  12,
                  2
                ],
                [
                  "2018-07-30T23:59:29Z",
                  "2018-07-31T00:15:38Z",
                  16,
                  13,
                  2.86
                ],
                [
                  "2018-07-30T23:59:28Z",
                  "2018-07-31T00:05:09Z",
                  6,
                  7.5,
                  0
                ],
                [
                  "2018-07-30T23:59:27Z",
                  "2018-07-31T00:07:48Z",
                  8,
                  8,
                  2.75
                ],
                [
                  "2018-07-30T23:59:26Z",
                  "2018-07-31T00:06:02Z",
                  7,
                  6.5,
                  1.55
                ],
                [
                  "2018-07-30T23:59:26Z",
                  "2018-07-31T00:03:56Z",
                  5,
                  6.5,
                  0
                ],
                [
                  "2018-07-30T23:59:26Z",
                  "2018-07-31T00:11:01Z",
                  12,
                  11,
                  2.45
                ],
                [
                  "2018-07-30T23:59:26Z",
                  "2018-07-31T00:08:34Z",
                  9,
                  8.5,
                  1.96
                ],
                [
                  "2018-07-30T23:59:26Z",
                  "2018-07-31T00:01:28Z",
                  2,
                  4,
                  1.05
                ],
                [
                  "2018-07-30T23:59:26Z",
                  "2018-07-31T00:03:09Z",
                  4,
                  4.5,
                  1.16
                ],
                [
                  "2018-07-30T23:59:25Z",
                  "2018-07-31T00:21:14Z",
                  22,
                  25.5,
                  0
                ],
                [
                  "2018-07-30T23:59:25Z",
                  "2018-07-31T00:06:55Z",
                  8,
                  8,
                  1.86
                ],
                [
                  "2018-07-30T23:59:25Z",
                  "2018-07-31T00:13:27Z",
                  14,
                  12.5,
                  2.75
                ],
                [
                  "2018-07-30T23:59:24Z",
                  "2018-07-31T00:01:03Z",
                  2,
                  3.5,
                  0
                ],
                [
                  "2018-07-30T23:59:24Z",
                  "2018-07-31T00:04:51Z",
                  5,
                  5.5,
                  1.36
                ],
                [
                  "2018-07-30T23:59:24Z",
                  "2018-07-31T00:07:38Z",
                  8,
                  8.5,
                  1.95
                ],
                [
                  "2018-07-30T23:59:23Z",
                  "2018-07-31T00:13:19Z",
                  14,
                  13,
                  2.86
                ],
                [
                  "2018-07-30T23:59:23Z",
                  "2018-07-31T00:13:29Z",
                  14,
                  18,
                  5.79
                ],
                [
                  "2018-07-30T23:59:23Z",
                  "2018-07-31T00:20:53Z",
                  22,
                  26.5,
                  6.71
                ],
                [
                  "2018-07-30T23:59:23Z",
                  "2018-07-31T00:08:17Z",
                  9,
                  8,
                  0
                ],
                [
                  "2018-07-30T23:59:22Z",
                  "2018-07-31T00:08:31Z",
                  9,
                  8.5,
                  1.5
                ],
                [
                  "2018-07-30T23:59:21Z",
                  "2018-07-31T00:23:48Z",
                  24,
                  39.5,
                  5
                ],
                [
                  "2018-07-30T23:59:21Z",
                  "2018-07-31T00:13:47Z",
                  14,
                  14,
                  3.06
                ],
                [
                  "2018-07-30T23:59:21Z",
                  "2018-07-31T00:10:02Z",
                  11,
                  11,
                  0
                ],
                [
                  "2018-07-30T23:59:19Z",
                  "2018-07-31T00:14:13Z",
                  15,
                  22.5,
                  5.44
                ],
                [
                  "2018-07-30T23:59:19Z",
                  "2018-07-31T00:06:01Z",
                  7,
                  6.5,
                  0
                ],
                [
                  "2018-07-30T23:59:19Z",
                  "2018-07-31T00:08:43Z",
                  9,
                  8.5,
                  1.96
                ],
                [
                  "2018-07-30T23:59:19Z",
                  "2018-07-31T00:04:27Z",
                  5,
                  6.5,
                  10
                ],
                [
                  "2018-07-30T23:59:17Z",
                  "2018-07-31T00:02:34Z",
                  3,
                  4.5,
                  1.16
                ],
                [
                  "2018-07-30T23:59:16Z",
                  "2018-07-31T00:04:34Z",
                  5,
                  6.5,
                  2.73
                ],
                [
                  "2018-07-30T23:59:16Z",
                  "2018-07-31T00:15:53Z",
                  17,
                  22,
                  5.8
                ],
                [
                  "2018-07-30T23:59:15Z",
                  "2018-07-31T00:02:18Z",
                  3,
                  4.5,
                  1.15
                ],
                [
                  "2018-07-30T23:59:15Z",
                  "2018-07-31T00:01:25Z",
                  2,
                  3.5,
                  0
                ],
                [
                  "2018-07-30T23:59:15Z",
                  "2018-07-31T00:11:27Z",
                  12,
                  11.5,
                  3.8
                ],
                [
                  "2018-07-30T23:59:14Z",
                  "2018-07-31T00:13:23Z",
                  14,
                  13,
                  0
                ],
                [
                  "2018-07-30T23:59:14Z",
                  "2018-07-31T00:04:30Z",
                  5,
                  5.5,
                  0
                ],
                [
                  "2018-07-30T23:59:13Z",
                  "2018-07-31T00:07:05Z",
                  8,
                  7,
                  1.65
                ],
                [
                  "2018-07-30T23:59:13Z",
                  "2018-07-31T00:08:15Z",
                  9,
                  9,
                  2.05
                ],
                [
                  "2018-07-30T23:59:12Z",
                  "2018-07-31T00:13:12Z",
                  14,
                  17.5,
                  0
                ],
                [
                  "2018-07-30T23:59:12Z",
                  "2018-07-31T00:02:53Z",
                  4,
                  5,
                  0
                ],
                [
                  "2018-07-30T23:59:12Z",
                  "2018-07-31T00:10:04Z",
                  11,
                  11,
                  2.46
                ],
                [
                  "2018-07-30T23:59:11Z",
                  "2018-07-31T00:13:45Z",
                  15,
                  12.5,
                  3.45
                ],
                [
                  "2018-07-30T23:59:11Z",
                  "2018-07-31T00:10:40Z",
                  11,
                  9.5,
                  2.16
                ],
                [
                  "2018-07-30T23:59:11Z",
                  "2018-07-31T00:07:59Z",
                  9,
                  16,
                  0
                ],
                [
                  "2018-07-30T23:59:11Z",
                  "2018-07-31T00:13:42Z",
                  15,
                  22,
                  0
                ],
                [
                  "2018-07-30T23:59:10Z",
                  "2018-07-31T00:02:42Z",
                  4,
                  5,
                  0
                ],
                [
                  "2018-07-30T23:59:09Z",
                  "2018-07-31T00:23:36Z",
                  24,
                  31.5,
                  7.7
                ]
              ]
            },
            "text/plain": "<Spark SQL result set with 100 rows and 5 fields>"
          },
          "metadata": {}
        }
      ],
      "execution_count": 13,
      "metadata": {
        "jupyter": {
          "source_hidden": false,
          "outputs_hidden": false
        },
        "nteract": {
          "transient": {
            "deleting": false
          }
        },
        "microsoft": {
          "language": "sparksql"
        },
        "collapsed": false
      }
    },
    {
      "cell_type": "code",
      "source": [
        "%%sql\r\n",
        "select count(1) from NYTaxi \r\n",
        "where PickupTime > '2018-07-01T00:00:00Z' "
      ],
      "outputs": [
        {
          "output_type": "display_data",
          "data": {
            "application/vnd.livy.statement-meta+json": {
              "spark_pool": "jbjsynspark",
              "session_id": 4,
              "statement_id": 15,
              "state": "finished",
              "livy_statement_state": "available",
              "queued_time": "2021-08-11T19:48:11.434105Z",
              "session_start_time": null,
              "execution_start_time": "2021-08-11T19:48:11.5400498Z",
              "execution_finish_time": "2021-08-11T19:48:15.49821Z"
            },
            "text/plain": "StatementMeta(jbjsynspark, 4, 15, Finished, Available)"
          },
          "metadata": {}
        },
        {
          "output_type": "execute_result",
          "execution_count": 15,
          "data": {
            "application/vnd.synapse.sparksql-result+json": {
              "schema": {
                "type": "struct",
                "fields": [
                  {
                    "name": "count(1)",
                    "type": "long",
                    "nullable": false,
                    "metadata": {}
                  }
                ]
              },
              "data": [
                [
                  7581432
                ]
              ]
            },
            "text/plain": "<Spark SQL result set with 1 rows and 1 fields>"
          },
          "metadata": {}
        }
      ],
      "execution_count": 15,
      "metadata": {
        "jupyter": {
          "source_hidden": false,
          "outputs_hidden": false
        },
        "nteract": {
          "transient": {
            "deleting": false
          }
        },
        "microsoft": {
          "language": "sparksql"
        },
        "collapsed": false
      }
    },
    {
      "cell_type": "code",
      "source": [
        "dfProcStream.stop()\r\n",
        "\r\n",
        "print(dfProcStream.status)"
      ],
      "outputs": [
        {
          "output_type": "display_data",
          "data": {
            "application/vnd.livy.statement-meta+json": {
              "spark_pool": "jbjsynspark",
              "session_id": 4,
              "statement_id": 16,
              "state": "finished",
              "livy_statement_state": "available",
              "queued_time": "2021-08-11T19:50:24.125943Z",
              "session_start_time": null,
              "execution_start_time": "2021-08-11T19:50:24.2983473Z",
              "execution_finish_time": "2021-08-11T19:50:24.4433956Z"
            },
            "text/plain": "StatementMeta(jbjsynspark, 4, 16, Finished, Available)"
          },
          "metadata": {}
        },
        {
          "output_type": "stream",
          "name": "stdout",
          "text": [
            "{'message': 'Stopped', 'isDataAvailable': False, 'isTriggerActive': False}"
          ]
        }
      ],
      "execution_count": 16,
      "metadata": {
        "jupyter": {
          "source_hidden": false,
          "outputs_hidden": false
        },
        "nteract": {
          "transient": {
            "deleting": false
          }
        },
        "collapsed": true
      }
    },
    {
      "cell_type": "code",
      "source": [
        "%%sql\r\n",
        "DROP TABLE NYTaxi "
      ],
      "outputs": [
        {
          "output_type": "display_data",
          "data": {
            "application/vnd.livy.statement-meta+json": {
              "spark_pool": "jbjsynspark",
              "session_id": 1,
              "statement_id": 26,
              "state": "finished",
              "livy_statement_state": "available",
              "queued_time": "2021-08-11T14:05:24.8241225Z",
              "session_start_time": null,
              "execution_start_time": "2021-08-11T14:05:24.9306433Z",
              "execution_finish_time": "2021-08-11T14:05:26.7707622Z"
            },
            "text/plain": "StatementMeta(jbjsynspark, 1, 26, Finished, Available)"
          },
          "metadata": {}
        },
        {
          "output_type": "execute_result",
          "execution_count": 26,
          "data": {
            "application/vnd.synapse.sparksql-result+json": {
              "schema": {
                "type": "struct",
                "fields": []
              },
              "data": []
            },
            "text/plain": "<Spark SQL result set with 0 rows and 0 fields>"
          },
          "metadata": {}
        }
      ],
      "execution_count": 26,
      "metadata": {
        "jupyter": {
          "source_hidden": false,
          "outputs_hidden": false
        },
        "nteract": {
          "transient": {
            "deleting": false
          }
        },
        "microsoft": {
          "language": "sparksql"
        },
        "collapsed": false
      }
    },
    {
      "cell_type": "code",
      "source": [
        "print(dfProcStream.status)"
      ],
      "outputs": [
        {
          "output_type": "display_data",
          "data": {
            "application/vnd.livy.statement-meta+json": {
              "spark_pool": "jbjsynspark",
              "session_id": 4,
              "statement_id": 17,
              "state": "finished",
              "livy_statement_state": "available",
              "queued_time": "2021-08-11T19:50:34.2517406Z",
              "session_start_time": null,
              "execution_start_time": "2021-08-11T19:50:34.3535628Z",
              "execution_finish_time": "2021-08-11T19:50:34.5057771Z"
            },
            "text/plain": "StatementMeta(jbjsynspark, 4, 17, Finished, Available)"
          },
          "metadata": {}
        },
        {
          "output_type": "stream",
          "name": "stdout",
          "text": [
            "{'message': 'Stopped', 'isDataAvailable': False, 'isTriggerActive': False}"
          ]
        }
      ],
      "execution_count": 17,
      "metadata": {
        "jupyter": {
          "source_hidden": false,
          "outputs_hidden": false
        },
        "nteract": {
          "transient": {
            "deleting": false
          }
        },
        "collapsed": true
      }
    }
  ],
  "metadata": {
    "kernelspec": {
      "name": "synapse_pyspark",
      "display_name": "Synapse PySpark"
    },
    "language_info": {
      "name": "python"
    },
    "save_output": true,
    "synapse_widget": {
      "version": "0.1",
      "state": {}
    }
  },
  "nbformat": 4,
  "nbformat_minor": 2
}